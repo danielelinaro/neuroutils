{
 "cells": [
  {
   "cell_type": "code",
   "execution_count": 1,
   "id": "42b7add9",
   "metadata": {},
   "outputs": [],
   "source": [
    "import os\n",
    "import sys\n",
    "import numpy as np\n",
    "import pandas as pd\n",
    "import matplotlib.pyplot as plt\n",
    "import seaborn as sns\n",
    "if '..' not in sys.path:\n",
    "    sys.path = ['..'] + sys.path\n",
    "from neuroutils.nodes import SWCImpedanceNode\n",
    "from neuroutils.trees import SWCImpedanceTree"
   ]
  },
  {
   "cell_type": "code",
   "execution_count": 2,
   "id": "e91a9eb4",
   "metadata": {},
   "outputs": [],
   "source": [
    "cm    =     1.     # [μF/cm2]\n",
    "rm    = 15000.     # [Ω.cm2]\n",
    "ra    =   200.     # [Ω.cm]\n",
    "swc_file = os.path.join('morphologies','DH070813.swc')\n",
    "tree = SWCImpedanceTree(swc_file, cm, rm, ra)"
   ]
  },
  {
   "cell_type": "code",
   "execution_count": 3,
   "id": "8b081985",
   "metadata": {},
   "outputs": [],
   "source": [
    "F = 0\n",
    "tree.compute_impedances(F)\n",
    "tree.compute_attenuations()"
   ]
  },
  {
   "cell_type": "code",
   "execution_count": 11,
   "id": "ccca0979",
   "metadata": {},
   "outputs": [],
   "source": [
    "A = {node.ID: tree.compute_attenuation(1,node.ID) for node in tree if node.ID != 1}"
   ]
  },
  {
   "cell_type": "code",
   "execution_count": 12,
   "id": "5327b80c",
   "metadata": {},
   "outputs": [
    {
     "data": {
      "image/png": "[encoded data removed]",
      "text/plain": [
       "<Figure size 600x400 with 1 Axes>"
      ]
     },
     "metadata": {},
     "output_type": "display_data"
    }
   ],
   "source": [
    "fig,ax = plt.subplots(1, 1, figsize=(6,4))\n",
    "for node in tree:\n",
    "    if node.ID != 1:\n",
    "        plt.plot(node._y, A[node.ID], 'k.', ms=2)"
   ]
  },
  {
   "cell_type": "code",
   "execution_count": null,
   "id": "c8a2fcba",
   "metadata": {},
   "outputs": [],
   "source": [
    "swc_file = os.path.join('morphologies','DH070813.swc')\n",
    "col_names = 'ID','type','x','y','z','diam','parent_ID'\n",
    "col_types = {'ID': np.int32, 'type': np.int32, 'x': np.float32,\n",
    "             'y': np.float32, 'z': np.float32, 'diam': np.float32,\n",
    "             'parent_ID': np.int32}\n",
    "df = pd.read_table(swc_file, sep=' ', header=None,\n",
    "                   names=col_names, index_col='ID')\n",
    "n_points = df.shape[0]\n",
    "df.loc[:,'diam_to_parent'] = np.zeros(n_points)\n",
    "df.loc[:,'dist_to_parent'] = np.zeros(n_points)\n",
    "print(f'The morphology contains {df.shape[0]} points.')"
   ]
  },
  {
   "cell_type": "code",
   "execution_count": null,
   "id": "e8b6bbf7",
   "metadata": {},
   "outputs": [],
   "source": [
    "idx, = np.where(df.loc[:,'type'] == 1)\n",
    "L = np.diff(df.loc[[2,3],'y'])\n",
    "diam = df.loc[1,'diam']"
   ]
  },
  {
   "cell_type": "code",
   "execution_count": null,
   "id": "17834333",
   "metadata": {},
   "outputs": [],
   "source": [
    "df.loc[[2,3],['x','y','z']].to_numpy()"
   ]
  },
  {
   "cell_type": "code",
   "execution_count": null,
   "id": "bfd7fa63",
   "metadata": {},
   "outputs": [],
   "source": [
    "cm    =     1.     # [μF/cm2]\n",
    "rm    = 15000.     # [Ω.cm2]\n",
    "ra    =   200.     # [Ω.cm]\n",
    "\n",
    "for ID,child in df.iterrows():\n",
    "    if child.parent_ID > 0:\n",
    "        parent = df.loc[child.parent_ID]\n",
    "        coords = [[child.x, child.y, child.z],[parent.x, parent.y, parent.z]]\n",
    "        diams = [child.diam, parent.diam]\n",
    "        node = SWCImpedanceNode(ID, coords, diams, cm, rm, ra)\n",
    "        df.loc[ID,'dist_to_parent'] = node.L\n",
    "        df.loc[ID,'diam_to_parent'] = node.diam"
   ]
  },
  {
   "cell_type": "code",
   "execution_count": null,
   "id": "bd222c5e",
   "metadata": {},
   "outputs": [],
   "source": [
    "df.head()"
   ]
  },
  {
   "cell_type": "code",
   "execution_count": null,
   "id": "f931fdd2",
   "metadata": {},
   "outputs": [],
   "source": [
    "ratio = df.loc[:,'diam_to_parent'] / df.loc[:,'diam']\n",
    "edges = np.r_[0.75 : 1.5 : 0.02]\n",
    "n,_ = np.histogram(ratio,edges)"
   ]
  },
  {
   "cell_type": "code",
   "execution_count": null,
   "id": "042dbdeb",
   "metadata": {},
   "outputs": [],
   "source": [
    "fig,ax = plt.subplots(1, 1, figsize=(6,3))\n",
    "ax.bar(edges[:-1], n, width=0.9*np.diff(edges)[0], align='edge', fc='k')\n",
    "ax.set_xlabel('Diameter to parent / Own diameter')\n",
    "ax.set_ylabel('Count')\n",
    "sns.despine()\n",
    "fig.tight_layout()"
   ]
  }
 ],
 "metadata": {
  "kernelspec": {
   "display_name": "Python 3 (ipykernel)",
   "language": "python",
   "name": "python3"
  },
  "language_info": {
   "codemirror_mode": {
    "name": "ipython",
    "version": 3
   },
   "file_extension": ".py",
   "mimetype": "text/x-python",
   "name": "python",
   "nbconvert_exporter": "python",
   "pygments_lexer": "ipython3",
   "version": "3.10.14"
  }
 },
 "nbformat": 4,
 "nbformat_minor": 5
}

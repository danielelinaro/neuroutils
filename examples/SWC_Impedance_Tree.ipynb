{
 "cells": [
  {
   "cell_type": "code",
   "execution_count": null,
   "id": "42b7add9",
   "metadata": {},
   "outputs": [],
   "source": [
    "import os\n",
    "import sys\n",
    "import json\n",
    "import pickle\n",
    "import numpy as np\n",
    "import pandas as pd\n",
    "import matplotlib.pyplot as plt\n",
    "import seaborn as sns\n",
    "if '..' not in sys.path:\n",
    "    sys.path = ['..'] + sys.path\n",
    "from dlutils.utils import extract_mechanisms\n",
    "from neuroutils.nodes import Node, SWCImpedanceNode\n",
    "from neuroutils.trees import SWCImpedanceTree"
   ]
  },
  {
   "cell_type": "code",
   "execution_count": null,
   "id": "ae34854e",
   "metadata": {},
   "outputs": [],
   "source": [
    "config_file = os.path.join('thorny.json')\n",
    "config = json.load(open(config_file, 'r'))\n",
    "optim_dir = config['optimization_folder']\n",
    "cell_type = config['cell_type']\n",
    "cell_name = config['cell_name']\n",
    "optim_run = config['optimization_run']\n",
    "individual = config['individual']\n",
    "base_folder = os.path.join(optim_dir, cell_type.capitalize(), cell_name, optim_run)\n",
    "swc_file = os.path.join(base_folder, config['swc_file'])\n",
    "params_file = os.path.join(base_folder, f'individual_{individual}.json')\n",
    "parameters = json.load(open(params_file, 'r'))\n",
    "mechanisms = extract_mechanisms(os.path.join(base_folder, 'parameters.json'), cell_name+'_')"
   ]
  },
  {
   "cell_type": "code",
   "execution_count": null,
   "id": "fbb5f073",
   "metadata": {},
   "outputs": [],
   "source": [
    "def find_param(params, name):\n",
    "    D = {}\n",
    "    section_IDs = {'somatic': 1, 'axonal': 2, 'basal': 3, 'apical': 4}\n",
    "    for param in params:\n",
    "        if param['param_name'] == name:\n",
    "            if param['sectionlist'] == 'all':\n",
    "                return param['value']\n",
    "            D[section_IDs[param['sectionlist']]] = param['value']\n",
    "    return D\n",
    "cm = find_param(parameters, 'cm')\n",
    "ra = find_param(parameters, 'Ra')\n",
    "rm = {k: 1/v for k,v in find_param(parameters, 'g_pas').items()}"
   ]
  },
  {
   "cell_type": "code",
   "execution_count": null,
   "id": "e91a9eb4",
   "metadata": {},
   "outputs": [],
   "source": [
    "tree = SWCImpedanceTree(swc_file, cm, rm, ra, root_point=1)"
   ]
  },
  {
   "cell_type": "code",
   "execution_count": null,
   "id": "8b081985",
   "metadata": {},
   "outputs": [],
   "source": [
    "F = 0\n",
    "tree.compute_impedances(F)\n",
    "tree.compute_attenuations()"
   ]
  },
  {
   "cell_type": "raw",
   "id": "5d127186",
   "metadata": {},
   "source": [
    "col_names = 'ID','typ','x','y','z','diam','parent_ID'\n",
    "col_types = {'ID': np.int32, 'typ': np.int32, 'x': np.float32,\n",
    "             'y': np.float32, 'z': np.float32, 'diam': np.float32,\n",
    "             'parent_ID': np.int32}\n",
    "df = pd.read_table(swc_file, sep=' ', header=None, names=col_names, index_col='ID')\n",
    "root_ID = tree.root.ID\n",
    "df.plot.scatter(x='x', y='y', s=1, c='k')\n",
    "plt.plot(df.loc[root_ID,'x'], df.loc[root_ID,'y'], 'ro')"
   ]
  },
  {
   "cell_type": "code",
   "execution_count": null,
   "id": "4c444028",
   "metadata": {},
   "outputs": [],
   "source": [
    "if cell_name == 'DH070813' and tree.root.ID == 1:\n",
    "    col_names = 'ID','typ','x','y','z','diam','parent_ID'\n",
    "    col_types = {'ID': np.int32, 'typ': np.int32, 'x': np.float32,\n",
    "                 'y': np.float32, 'z': np.float32, 'diam': np.float32,\n",
    "                 'parent_ID': np.int32}\n",
    "    df = pd.read_table(swc_file, sep=' ', header=None, names=col_names, index_col='ID')\n",
    "    start,stop = 4858,4887\n",
    "    IDs_on_path = [stop]\n",
    "    ID = stop\n",
    "    parent_ID = int(df.loc[stop,'parent_ID'])\n",
    "    distances = []\n",
    "    while parent_ID != -1:\n",
    "        distances.append(np.sqrt(np.sum((df.loc[ID,['x','y','z']]-df.loc[parent_ID,['x','y','z']])**2)))\n",
    "        ID = parent_ID\n",
    "        parent_ID = int(df.loc[ID,'parent_ID'])\n",
    "        IDs_on_path.append(ID)\n",
    "        if ID == start:\n",
    "            break\n",
    "    IDs_on_path = np.array(IDs_on_path[::-1])\n",
    "    distances = np.array(distances[::-1])\n",
    "    path = tree.find_connecting_path(start,stop)\n",
    "    dst = np.array([n._h for n in path[1:]])\n",
    "    assert distances.sum() == dst.sum()\n",
    "    n1 = tree.find_node_with_ID(start)\n",
    "    n2 = tree.find_node_with_ID(stop)\n",
    "    print('Path distance between points ({:.2f},{:.2f},{:.2f}) and ({:.2f},{:.2f},{:.2f}): {:.5f}.'.\\\n",
    "          format(n1._x, n1._y, n1._z, n2._x, n2._y, n2._z, np.sum(distances)))\n",
    "    print('Attenuation between points ({:.2f},{:.2f},{:.2f}) and ({:.2f},{:.2f},{:.2f}): {:.5f}.'.\\\n",
    "          format(n1._x, n1._y, n1._z, n2._x, n2._y, n2._z, tree.compute_attenuation(start, stop)))"
   ]
  },
  {
   "cell_type": "code",
   "execution_count": null,
   "id": "2f1e680d",
   "metadata": {},
   "outputs": [],
   "source": [
    "A = {}\n",
    "D = {}\n",
    "D_lambda = {}\n",
    "for node in tree:\n",
    "    if node.parent is not None and node._node_type in (3,4):\n",
    "        parent = node.parent\n",
    "        siblings = parent.children\n",
    "        idx = siblings.index(node)\n",
    "        try:\n",
    "            A[node.ID] = A[parent.ID] * parent.A[idx]\n",
    "            D[node.ID] = D[parent.ID] + node._h\n",
    "            D_lambda[node.ID] = D_lambda[parent.ID] + 1e-4*node._h/node._lambda_DC\n",
    "        except:\n",
    "            A[node.ID] = parent.A[idx]\n",
    "            D[node.ID] = node._h\n",
    "            D_lambda[node.ID] = 1e-4*node._h/node._lambda_DC\n",
    "for node in tree:\n",
    "    try:\n",
    "        coeff = -1 if node._node_type == 3 else 1\n",
    "        D[node.ID] *= coeff\n",
    "        D_lambda[node.ID] *= coeff\n",
    "    except:\n",
    "        pass\n",
    "for k,v in A.items():\n",
    "    A[k] = np.abs(v)"
   ]
  },
  {
   "cell_type": "code",
   "execution_count": null,
   "id": "9c1854d6",
   "metadata": {},
   "outputs": [],
   "source": [
    "pickle.dump(A, open(f'A_{cell_type}.pkl','wb'))\n",
    "pickle.dump(D, open(f'D_{cell_type}.pkl','wb'))"
   ]
  },
  {
   "cell_type": "code",
   "execution_count": null,
   "id": "5327b80c",
   "metadata": {},
   "outputs": [],
   "source": [
    "fig,ax = plt.subplots(1, 2, figsize=(8,4), sharey=True)\n",
    "for node in tree:\n",
    "    if node._node_type in (3,4) and node != tree.root:\n",
    "        ax[0].plot(D[node.ID], 20*np.log10(A[node.ID]), 'k.', ms=1)\n",
    "        ax[1].plot(D_lambda[node.ID], 20*np.log10(A[node.ID]), 'k.', ms=1)\n",
    "ax[0].set_xlabel('Distance from root (μm)')\n",
    "ax[1].set_xlabel('Distance from root (λ)')\n",
    "ax[0].set_ylabel('Attenuation (log)')\n",
    "sns.despine()\n",
    "fig.tight_layout()"
   ]
  }
 ],
 "metadata": {
  "kernelspec": {
   "display_name": "Python 3 (ipykernel)",
   "language": "python",
   "name": "python3"
  },
  "language_info": {
   "codemirror_mode": {
    "name": "ipython",
    "version": 3
   },
   "file_extension": ".py",
   "mimetype": "text/x-python",
   "name": "python",
   "nbconvert_exporter": "python",
   "pygments_lexer": "ipython3",
   "version": "3.10.14"
  }
 },
 "nbformat": 4,
 "nbformat_minor": 5
}

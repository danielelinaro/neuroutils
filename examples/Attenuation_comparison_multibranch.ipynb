{
 "cells": [
  {
   "cell_type": "markdown",
   "id": "3d1a96d5",
   "metadata": {},
   "source": [
    "This notebooks compares dendritic attenuation results obtained with three different methods:\n",
    "\n",
    "1. NEURON simulation (i.e., what we consider the \"ground truth\").\n",
    "1. Impedance tree (i.e., the method implemented in ``nodes.py`` and ``trees.py``).\n",
    "1. The cable equation (i.e., the theoretical results that are valid in case of an unbranched piece of dendrite of infinite length)."
   ]
  },
  {
   "cell_type": "code",
   "execution_count": null,
   "id": "b24da5aa",
   "metadata": {},
   "outputs": [],
   "source": [
    "import sys\n",
    "import numpy as np\n",
    "import matplotlib.pyplot as plt\n",
    "import seaborn as sns\n",
    "\n",
    "if '..' not in sys.path:\n",
    "    sys.path = ['..'] + sys.path\n",
    "\n",
    "from neuroutils.trees import SWCImpedanceTree\n",
    "\n",
    "from neuron import h\n",
    "h.load_file('stdrun.hoc')\n",
    "h.load_file('stdlib.hoc')\n",
    "h.celsius = 34"
   ]
  },
  {
   "cell_type": "markdown",
   "id": "dc58e9df",
   "metadata": {},
   "source": [
    "#### The parameters"
   ]
  },
  {
   "cell_type": "code",
   "execution_count": null,
   "id": "83588600",
   "metadata": {},
   "outputs": [],
   "source": [
    "cm   =     1.  # [uF/cm2] membrane capacitance\n",
    "Ra   =   100.  # [Ohm cm] cytoplasmic resistivity\n",
    "Rm   = 15000.  # [Ohm cm2] membrane resistance\n",
    "El   =   -65.  # [mV] passive reversal potential\n",
    "diam =     2.  # [um] (constant) diameter of the cable"
   ]
  },
  {
   "cell_type": "markdown",
   "id": "404d7613",
   "metadata": {},
   "source": [
    "#### The membrane time constant"
   ]
  },
  {
   "cell_type": "code",
   "execution_count": null,
   "id": "e8df0fb6",
   "metadata": {},
   "outputs": [],
   "source": [
    "taum = Rm*cm*1e-3   # [ms]\n",
    "print('Membrane time constant: {:.2f} ms.'.format(taum))"
   ]
  },
  {
   "cell_type": "markdown",
   "id": "de28b2ba",
   "metadata": {},
   "source": [
    "#### The length constant λ"
   ]
  },
  {
   "cell_type": "code",
   "execution_count": null,
   "id": "cfe310a8",
   "metadata": {},
   "outputs": [],
   "source": [
    "length_const = np.sqrt((diam*1e-4*Rm)/(4*Ra)) * 1e4\n",
    "print('Length constant: {:.3f} um.'.format(length_const))"
   ]
  },
  {
   "cell_type": "markdown",
   "id": "7261be04",
   "metadata": {},
   "source": [
    "Here we choose the length of the cable to be equal to a certain multiple of λ: the higher this number, the more closely the numerical solution will match the theoretical one. Either way, the values obtained with the impedance tree should match the NEURON simulation."
   ]
  },
  {
   "cell_type": "code",
   "execution_count": null,
   "id": "016c6f67",
   "metadata": {},
   "outputs": [],
   "source": [
    "L = [0.3*length_const, 0.2*length_const, 0.1*length_const]\n",
    "θ = [0, np.pi/6, -np.pi/4]\n",
    "parent = [-1, 0, 0]\n",
    "N_sections = len(L)\n",
    "for i,l in enumerate(L):\n",
    "    print('Length of section {}: {:.3f} um.'.format(i+1,l))"
   ]
  },
  {
   "cell_type": "markdown",
   "id": "95a4f66a",
   "metadata": {},
   "source": [
    "Here we generate the points that make up the morphology and save them in an SWC file:"
   ]
  },
  {
   "cell_type": "code",
   "execution_count": null,
   "id": "d08825a3",
   "metadata": {},
   "outputs": [],
   "source": [
    "N_pts_per_lambda = 1000\n",
    "\n",
    "X = []\n",
    "offset = 1\n",
    "for i,l in enumerate(L):\n",
    "    n = int(np.ceil(l / length_const * N_pts_per_lambda))\n",
    "    if i > 0:\n",
    "        n += 1\n",
    "    Xi = np.zeros((n,7))\n",
    "    # ID\n",
    "    Xi[:,0] = np.arange(n) + offset\n",
    "    # type\n",
    "    Xi[:,1] = 4\n",
    "    # coordinates\n",
    "    Xi[:,2] = np.linspace(0, l, n)\n",
    "    R = np.array([[np.cos(θ[i]),-np.sin(θ[i]),0],[np.sin(θ[i]),np.cos(θ[i]),0],[0,0,1]])\n",
    "    Xi[:,2:5] = (R @ Xi[:,2:5].T).T\n",
    "    if i > 0:\n",
    "        Xi[:,2:5] += X[parent[i]][-1,2:5]\n",
    "        Xi = Xi[1:]\n",
    "        Xi[:,0] -= 1\n",
    "    # diameter\n",
    "    Xi[:,5] = diam\n",
    "    # parent ID\n",
    "    Xi[:,6] = Xi[:,0] - 1\n",
    "    if i == 0:\n",
    "        # root node\n",
    "        Xi[0,6] = -1\n",
    "    else:\n",
    "        Xi[0,6] = X[parent[i]][-1,0]\n",
    "    X.append(Xi)\n",
    "    offset = np.sum([len(x) for x in X]) + 1\n",
    "swc_file = 'morpho.swc'\n",
    "np.savetxt(swc_file, np.concatenate(X), fmt='%g')"
   ]
  },
  {
   "cell_type": "raw",
   "id": "bad09328",
   "metadata": {},
   "source": [
    "N_pts_per_lambda = 100\n",
    "N_pts = int(np.ceil(L / length_const * N_pts_per_lambda))\n",
    "print('The morphology contains {} points.'.format(N_pts))\n",
    "X = np.zeros((N_pts, 7))\n",
    "X[:,0] = np.arange(N_pts) + 1\n",
    "X[:,1] = 4\n",
    "X[:,2] = np.linspace(0, L, N_pts)\n",
    "spatial_f = 1/length_const\n",
    "X[:,3] = 100*np.sin(2*np.pi*spatial_f*X[:,2])\n",
    "X[:,4] = 100*np.sin(2*np.pi*X[:,2]/L)\n",
    "X[:,5] = diam + 9/10*diam*np.cos(2*np.pi*spatial_f*X[:,2])\n",
    "# X[:,5] = np.linspace(diam, 1, N_pts)\n",
    "X[:,6] = X[:,0] - 1\n",
    "# root node\n",
    "X[0,-1] = -1\n",
    "swc_file = 'morpho.swc'\n",
    "np.savetxt(swc_file, X, fmt='%g')"
   ]
  },
  {
   "cell_type": "code",
   "execution_count": null,
   "id": "12df26b4",
   "metadata": {},
   "outputs": [],
   "source": [
    "width_ratio = 0.1\n",
    "height_ratio = 1\n",
    "fig,ax = plt.subplots(2, 2, figsize=(8,3),\n",
    "                      width_ratios=(1, width_ratio),\n",
    "                      height_ratios=(1, height_ratio))\n",
    "for Xi in X:\n",
    "    x,y,z = Xi[:,2],Xi[:,3],Xi[:,4]\n",
    "    ax[0,0].scatter(x, y, s=Xi[:,5], c='k')\n",
    "    ax[1,0].scatter(x, z, s=Xi[:,5], c='k')\n",
    "    ax[0,1].scatter(z, y, s=Xi[:,5], c='k')\n",
    "ax[0,0].set_xlabel('X')\n",
    "ax[0,0].set_ylabel('Y')\n",
    "ax[1,0].set_xlabel('X')\n",
    "ax[1,0].set_ylabel('Z')\n",
    "ax[0,1].set_xlabel('Z')\n",
    "ax[0,1].set_ylabel('Y')\n",
    "plt.axis('equal')\n",
    "ax[1,1].axis('off')\n",
    "sns.despine()\n",
    "fig.tight_layout()"
   ]
  },
  {
   "cell_type": "markdown",
   "id": "df5512ec",
   "metadata": {},
   "source": [
    "### Instantiate the sections"
   ]
  },
  {
   "cell_type": "code",
   "execution_count": null,
   "id": "0e3d4605",
   "metadata": {},
   "outputs": [],
   "source": [
    "dend = [h.Section(name=f'dend-{i+1}') for i in range(N_sections)]\n",
    "xvec = [h.Vector(x[:,2]) for x in X]\n",
    "yvec = [h.Vector(x[:,3]) for x in X]\n",
    "zvec = [h.Vector(x[:,4]) for x in X]\n",
    "dvec = [h.Vector(x[:,5]) for x in X]\n",
    "for i,sec in enumerate(dend):\n",
    "    sec.cm = cm\n",
    "    sec.Ra = Ra\n",
    "    h.pt3dadd(xvec[i], yvec[i], zvec[i], dvec[i], sec=sec)\n",
    "\n",
    "    sec.insert('pas')\n",
    "    sec.g_pas = 1/Rm\n",
    "    sec.e_pas = El\n",
    "    # setting the number of segments using the d_lambda rule\n",
    "    # for more information, see https://neuron.yale.edu/neuron/static/docs/d_lambda/d_lambda.html\n",
    "    sec.nseg = int((L[i]/(0.1*h.lambda_f(100, sec=sec))+0.9)/2)*2 + 1\n",
    "    print(\"Section '{}' is {:g} um long and is subdivided into {} segments.\".\\\n",
    "          format(sec.name(), sec.L, sec.nseg))\n",
    "    \n",
    "dend[1].connect(dend[0](1), 0)\n",
    "dend[2].connect(dend[0](1), 0)"
   ]
  },
  {
   "cell_type": "code",
   "execution_count": null,
   "id": "dde07eef",
   "metadata": {},
   "outputs": [],
   "source": [
    "before, after = 100, 100\n",
    "stim_sec = 0\n",
    "stim_x = 0\n",
    "stim_x = 3/4\n",
    "# stim_x = 0.5\n",
    "stim = h.IClamp(dend[stim_sec](stim_x))\n",
    "stim.delay = before\n",
    "stim.dur = 500\n",
    "stim.amp = 1000 * L[0] / length_const * 1e-3\n",
    "stim.amp = 0.01\n",
    "print('Stimulus amplitude: {:g} pA.'.format(stim.amp*1e3))"
   ]
  },
  {
   "cell_type": "code",
   "execution_count": null,
   "id": "5e0267d7",
   "metadata": {},
   "outputs": [],
   "source": [
    "rec = {'t': h.Vector()}\n",
    "rec['t'].record(h._ref_t)\n",
    "for i,sec in enumerate(dend):\n",
    "    for seg in sec:\n",
    "        key = 'V-{}-{:.3f}'.format(i+1, seg.x)\n",
    "        rec[key] = h.Vector()\n",
    "        rec[key].record(seg._ref_v)"
   ]
  },
  {
   "cell_type": "code",
   "execution_count": null,
   "id": "d3de0ce0",
   "metadata": {},
   "outputs": [],
   "source": [
    "h.cvode_active(1)\n",
    "h.tstop = before + after + stim.dur\n",
    "h.v_init = El\n",
    "h.run();"
   ]
  },
  {
   "cell_type": "code",
   "execution_count": null,
   "id": "a9c9058b",
   "metadata": {},
   "outputs": [],
   "source": [
    "root_point = max(2, int(dend[stim_sec].n3d()*stim_x)+1)\n",
    "tree = SWCImpedanceTree(swc_file, cm, Rm, Ra, root_point=root_point)\n",
    "tree.compute_impedances(F=0)\n",
    "tree.compute_attenuations()\n",
    "tree.compute_distances()\n",
    "A = np.array([np.abs(node.A_from_root) for node in tree])\n",
    "## path distance\n",
    "dst_from_root = np.array([node.distance*(-1 if node.x < tree.root.x else 1) for node in tree])"
   ]
  },
  {
   "cell_type": "markdown",
   "id": "d1917cb0",
   "metadata": {},
   "source": [
    "Get the simulation results:"
   ]
  },
  {
   "cell_type": "code",
   "execution_count": null,
   "id": "546b09a2",
   "metadata": {},
   "outputs": [],
   "source": [
    "time = np.array(rec['t'])\n",
    "root = dend[stim_sec](stim_x)\n",
    "dst = [[h.distance(root, seg)*(-1 if sec == dend[stim_sec] and seg.x < stim_x else 1)/length_const \\\n",
    "        for seg in sec] for sec in dend]\n",
    "V = [np.array([np.array(rec[f'V-{i+1}-{seg.x:.3f}']) for seg in sec]) for i,sec in enumerate(dend)]\n",
    "before_stim = np.where(time < stim.delay)[0][-1]\n",
    "V0 = [v[:,before_stim] for v in V]\n",
    "V1 = [v.max(axis=1) for v in V]\n",
    "# the numerically computed voltage deflection\n",
    "DeltaV = [v1-v0 for v1,v0 in zip(V1,V0)]\n",
    "DeltaVmax = np.max([v.max() for v in DeltaV])"
   ]
  },
  {
   "cell_type": "markdown",
   "id": "a200ddbe",
   "metadata": {},
   "source": [
    "Plot the results:"
   ]
  },
  {
   "cell_type": "code",
   "execution_count": null,
   "id": "01838e10",
   "metadata": {},
   "outputs": [],
   "source": [
    "cmap_name = 'Accent'\n",
    "cmap = plt.get_cmap(cmap_name)\n",
    "fig,ax = plt.subplots(1, 2, figsize=(8,3))\n",
    "k = 0\n",
    "for i,Vi in enumerate(V):\n",
    "    for v in Vi:\n",
    "        ax[0].plot(time, v, color=cmap(i), lw=0.75)\n",
    "        k += 1\n",
    "ax[0].set_xlabel('Time (ms)')\n",
    "ax[0].set_ylabel('Membrane voltage (mV)')\n",
    "ax[0].grid(which='major', axis='y', lw=0.5, ls=':', color=[.6,.6,.6])\n",
    "\n",
    "col = [.8,0,.8]\n",
    "for i,(x,y) in enumerate(zip(dst,DeltaV)):\n",
    "    ax[1].plot(x, y, lw=2, color=cmap(i), label=dend[i].name())\n",
    "ax[1].scatter(dst_from_root/length_const, DeltaVmax/A, s=1, color=[.6,.6,.6],\n",
    "              marker='o', label='Impedance tree')\n",
    "ax[1].legend(loc='best', frameon=False, fontsize=8)\n",
    "ax[1].set_xlabel('X $(\\lambda)$')\n",
    "ax[1].set_ylabel(r'$\\Delta$V (mV)')\n",
    "ax[1].grid(which='major', axis='x', lw=0.5, ls=':', color=[.6,.6,.6])\n",
    "sns.despine()\n",
    "fig.tight_layout()"
   ]
  },
  {
   "cell_type": "code",
   "execution_count": null,
   "id": "fa15d093",
   "metadata": {},
   "outputs": [],
   "source": []
  }
 ],
 "metadata": {
  "kernelspec": {
   "display_name": "Python 3 (ipykernel)",
   "language": "python",
   "name": "python3"
  },
  "language_info": {
   "codemirror_mode": {
    "name": "ipython",
    "version": 3
   },
   "file_extension": ".py",
   "mimetype": "text/x-python",
   "name": "python",
   "nbconvert_exporter": "python",
   "pygments_lexer": "ipython3",
   "version": "3.10.14"
  }
 },
 "nbformat": 4,
 "nbformat_minor": 5
}

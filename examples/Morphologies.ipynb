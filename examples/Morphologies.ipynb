{
 "cells": [
  {
   "cell_type": "code",
   "execution_count": null,
   "id": "7ae99cb6",
   "metadata": {},
   "outputs": [],
   "source": [
    "import os\n",
    "import sys\n",
    "import matplotlib.pyplot as plt\n",
    "import seaborn as sns\n",
    "if '..' not in sys.path:\n",
    "    sys.path = ['..'] + sys.path\n",
    "from neuroutils.trees import SWCTree"
   ]
  },
  {
   "cell_type": "code",
   "execution_count": null,
   "id": "f5145287",
   "metadata": {},
   "outputs": [],
   "source": [
    "tree = SWCTree(os.path.join('morphologies','DH070813.swc'))\n",
    "w,h = 5,5/tree.xy_ratio\n",
    "fig,ax = plt.subplots(1,1,figsize=(w,h))\n",
    "tree.plot(ax=ax, scalebar_length=100)\n",
    "fig.tight_layout()\n",
    "ax.axis('off')\n",
    "sns.despine()"
   ]
  }
 ],
 "metadata": {
  "kernelspec": {
   "display_name": "Python 3 (ipykernel)",
   "language": "python",
   "name": "python3"
  },
  "language_info": {
   "codemirror_mode": {
    "name": "ipython",
    "version": 3
   },
   "file_extension": ".py",
   "mimetype": "text/x-python",
   "name": "python",
   "nbconvert_exporter": "python",
   "pygments_lexer": "ipython3",
   "version": "3.10.14"
  }
 },
 "nbformat": 4,
 "nbformat_minor": 5
}

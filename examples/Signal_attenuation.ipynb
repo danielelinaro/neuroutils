{
 "cells": [
  {
   "cell_type": "code",
   "execution_count": null,
   "id": "7d0f69ed",
   "metadata": {},
   "outputs": [],
   "source": [
    "import os\n",
    "import sys\n",
    "import json\n",
    "import numpy as np\n",
    "import matplotlib.pyplot as plt\n",
    "import seaborn as sns\n",
    "from neuron import h\n",
    "h.load_file('stdrun.hoc')\n",
    "\n",
    "if '..' not in sys.path:\n",
    "    sys.path = ['..'] + sys.path\n",
    "from dlutils.cell import Cell, branch_order\n",
    "from dlutils.utils import extract_mechanisms\n",
    "from neuroutils.trees import ImpedanceTree\n",
    "from neuroutils.nodes import ImpedanceNode"
   ]
  },
  {
   "cell_type": "code",
   "execution_count": null,
   "id": "e04ae4cc",
   "metadata": {},
   "outputs": [],
   "source": [
    "config_file = os.path.join('thorny.json')\n",
    "config = json.load(open(config_file, 'r'))\n",
    "optim_dir = config['optimization_folder']\n",
    "cell_type = config['cell_type']\n",
    "cell_name = config['cell_name']\n",
    "optim_run = config['optimization_run']\n",
    "individual = config['individual']\n",
    "base_folder = os.path.join(optim_dir, cell_type.upper(), cell_name, optim_run)\n",
    "swc_file = os.path.join(base_folder, config['swc_file'])\n",
    "params_file = os.path.join(base_folder, f'individual_{individual}.json')\n",
    "parameters = json.load(open(params_file, 'r'))\n",
    "mechanisms = extract_mechanisms(os.path.join(base_folder, 'parameters.json'), cell_name+'_')"
   ]
  },
  {
   "cell_type": "code",
   "execution_count": null,
   "id": "937ef9e8",
   "metadata": {},
   "outputs": [],
   "source": [
    "replace_axon = True\n",
    "add_axon_if_missing = True\n",
    "cell = Cell('cell_{}'.format(np.random.randint(1000)), swc_file, parameters, mechanisms)\n",
    "cell.instantiate(replace_axon, add_axon_if_missing, use_dlambda_rule=False,\n",
    "                 force_passive=True, TTX=False)\n",
    "soma = cell.morpho.soma[0](0.5)"
   ]
  },
  {
   "cell_type": "code",
   "execution_count": null,
   "id": "fe96100c",
   "metadata": {},
   "outputs": [],
   "source": [
    "F     = 0.         # [Hz]\n",
    "ω     = 2*np.pi*F  # [rad/s]\n",
    "if F > 0:\n",
    "    T = 1000/F     # [ms]"
   ]
  },
  {
   "cell_type": "code",
   "execution_count": null,
   "id": "d1115173",
   "metadata": {},
   "outputs": [],
   "source": [
    "stim_seg = soma\n",
    "if F == 0:\n",
    "    stim = h.IClamp(stim_seg)\n",
    "    stim.dur = 1e3\n",
    "else:\n",
    "    stim = h.Izap(stim_seg)\n",
    "    stim.f0 = F\n",
    "    stim.f1 = F\n",
    "    stim.dur = 200 + 5*T\n",
    "stim.delay = 500\n",
    "stim.amp = 0.1"
   ]
  },
  {
   "cell_type": "code",
   "execution_count": null,
   "id": "5db24d42",
   "metadata": {},
   "outputs": [],
   "source": [
    "tree = ImpedanceTree(root_seg=stim_seg)\n",
    "tree.compute_impedances(F)\n",
    "tree.compute_attenuations()"
   ]
  },
  {
   "cell_type": "code",
   "execution_count": null,
   "id": "8ebae9d6",
   "metadata": {},
   "outputs": [],
   "source": [
    "segments = [node.seg for node in tree]\n",
    "n_segments = len(segments)"
   ]
  },
  {
   "cell_type": "code",
   "execution_count": null,
   "id": "d097138f",
   "metadata": {},
   "outputs": [],
   "source": [
    "t_rec = h.Vector()\n",
    "t_rec.record(h._ref_t)\n",
    "v_rec = []\n",
    "distances = []\n",
    "for seg in segments:\n",
    "    rec = h.Vector()\n",
    "    rec.record(seg._ref_v)\n",
    "    v_rec.append(rec)\n",
    "    coeff = -1 if seg.sec in cell.morpho.dend else 1\n",
    "    distances.append(coeff * h.distance(soma, seg))\n",
    "distances = np.array(distances)"
   ]
  },
  {
   "cell_type": "code",
   "execution_count": null,
   "id": "87b9051d",
   "metadata": {},
   "outputs": [],
   "source": [
    "h.tstop = stim.dur + 2*stim.delay\n",
    "h.v_init = -65\n",
    "if F==0:\n",
    "    h.cvode_active(1)\n",
    "else:\n",
    "    h.cvode_active(0)\n",
    "    h.dt = T/1000\n",
    "h.run()"
   ]
  },
  {
   "cell_type": "code",
   "execution_count": null,
   "id": "778e65bd",
   "metadata": {},
   "outputs": [],
   "source": [
    "t = np.array(t_rec)\n",
    "V = np.array([np.array(rec) for rec in v_rec])\n",
    "if F > 0:\n",
    "    idx = (t>stim.delay+stim.dur-2*T) & (t<stim.delay+stim.dur)\n",
    "    ΔV = V[:,idx].max(axis=1) - V[:,idx].min(axis=1)\n",
    "else:\n",
    "    idx0 = np.where(t<=stim.delay)[0][-1]\n",
    "    idx1 = np.where(t<=stim.delay+stim.dur)[0][-1]\n",
    "    ΔV = V[:,idx1] - V[:,idx0]"
   ]
  },
  {
   "cell_type": "code",
   "execution_count": null,
   "id": "8d354bb2",
   "metadata": {},
   "outputs": [],
   "source": [
    "i,j = 0,100\n",
    "seg_i,seg_j = segments[i], segments[j]\n",
    "node_i = tree.find_node(ImpedanceNode(seg_i))\n",
    "node_j = tree.find_node(ImpedanceNode(seg_j))\n",
    "A_computed = tree.compute_attenuation(seg_j)\n",
    "A_measured = ΔV[i]/ΔV[j]\n",
    "print('Attenuation between segments {} and {}: {:.6f} (measured), {:.6f} (computed).'.\\\n",
    "     format(node_i, node_j, A_measured, A_computed))"
   ]
  },
  {
   "cell_type": "code",
   "execution_count": null,
   "id": "ecd5b4e0",
   "metadata": {},
   "outputs": [],
   "source": [
    "A_k_measured = ΔV[0] / ΔV[1:]\n",
    "A_k_computed = [tree.compute_attenuation(seg_k) for seg_k in segments[1:]]"
   ]
  },
  {
   "cell_type": "code",
   "execution_count": null,
   "id": "d6ac36bb",
   "metadata": {},
   "outputs": [],
   "source": [
    "fig,ax = plt.subplots(1, 2, figsize=(8,4), width_ratios=(1,3))\n",
    "\n",
    "lim = [A_k_measured.min()*0.999, A_k_measured.max()*1.001]\n",
    "ax[0].plot(lim, lim, lw=2, color=[.4,.4,.4])\n",
    "ax[0].plot(A_k_measured, A_k_computed, 'ko', markerfacecolor='w', markersize=4)\n",
    "ax[0].grid(which='major', axis='both', ls=':', lw=0.5, color=[.6,.6,.6])\n",
    "ax[0].set_xlabel('Measured attenuation')\n",
    "ax[0].set_ylabel('Computed attenuation')\n",
    "\n",
    "ax[1].plot(distances[1:], np.log(A_k_measured), 'k.', markersize=3)\n",
    "ax[1].plot(distances[1:], np.log(A_k_computed), 'r.', markersize=3)\n",
    "ax[1].set_xlabel('Distance from soma (μm)')\n",
    "\n",
    "sns.despine()\n",
    "fig.tight_layout()"
   ]
  }
 ],
 "metadata": {
  "kernelspec": {
   "display_name": "Python 3 (ipykernel)",
   "language": "python",
   "name": "python3"
  },
  "language_info": {
   "codemirror_mode": {
    "name": "ipython",
    "version": 3
   },
   "file_extension": ".py",
   "mimetype": "text/x-python",
   "name": "python",
   "nbconvert_exporter": "python",
   "pygments_lexer": "ipython3",
   "version": "3.10.14"
  }
 },
 "nbformat": 4,
 "nbformat_minor": 5
}

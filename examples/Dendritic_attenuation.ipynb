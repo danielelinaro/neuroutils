{
 "cells": [
  {
   "cell_type": "code",
   "execution_count": null,
   "id": "d4d014e8",
   "metadata": {},
   "outputs": [],
   "source": [
    "import numpy as np\n",
    "import matplotlib.pyplot as plt\n",
    "import seaborn as sns\n",
    "from neuron import h\n",
    "h.load_file('stdrun.hoc')\n",
    "import sys\n",
    "if '..' not in sys.path:\n",
    "    sys.path = ['..'] + sys.path\n",
    "from neuroutils.trees import ImpedanceTree\n",
    "from neuroutils.nodes import ImpedanceNode"
   ]
  },
  {
   "cell_type": "code",
   "execution_count": null,
   "id": "d9c4fe9a",
   "metadata": {},
   "outputs": [],
   "source": [
    "ra    =   200.     # [Ω.cm]\n",
    "rm    = 15000.     # [Ω.cm2]\n",
    "cm    =     1.     # [μF/cm2]\n",
    "g_pas = 1/rm       # [S/cm2]\n",
    "e_pas = -65.       # [mV]\n",
    "taum  = rm*cm*1e-6 # [s]\n",
    "F     = 0.         # [Hz]\n",
    "ω     = 2*np.pi*F  # [rad/s]\n",
    "if F > 0:\n",
    "    T = 1000/F     # [ms]"
   ]
  },
  {
   "cell_type": "code",
   "execution_count": null,
   "id": "4867b53d",
   "metadata": {},
   "outputs": [],
   "source": [
    "n_sections = 4\n",
    "sections = [h.Section(name=f'sec_{i}') for i in range(n_sections)]\n",
    "for sec in sections:\n",
    "    sec.cm = cm\n",
    "    sec.Ra = ra\n",
    "    sec.insert('pas')\n",
    "    sec.g_pas = 1/rm\n",
    "    sec.e_pas = e_pas\n",
    "sections[0].L,sections[0].diam,sections[0].nseg = 20,20,1\n",
    "sections[1].L,sections[1].diam,sections[1].nseg = 500,10,25\n",
    "sections[2].L,sections[2].diam,sections[2].nseg = 500,4,25\n",
    "sections[1].connect(sections[0](1), 0)\n",
    "sections[2].connect(sections[1](1), 0)\n",
    "if n_sections == 4:\n",
    "    sections[3].L,sections[3].diam,sections[3].nseg = 300,3,15\n",
    "    sections[3].connect(sections[1](1), 0)\n",
    "h.topology()"
   ]
  },
  {
   "cell_type": "code",
   "execution_count": null,
   "id": "03de5e5d",
   "metadata": {},
   "outputs": [],
   "source": [
    "stim_seg = sections[2](0.5)\n",
    "if F == 0:\n",
    "    stim = h.IClamp(stim_seg)\n",
    "    stim.dur = 10*taum*1e3\n",
    "else:\n",
    "    stim = h.Izap(stim_seg)\n",
    "    stim.f0 = F\n",
    "    stim.f1 = F\n",
    "    stim.dur = 10*taum*1e3 + 5*T\n",
    "stim.delay = 5*taum*1e3\n",
    "stim.amp = 0.01"
   ]
  },
  {
   "cell_type": "code",
   "execution_count": null,
   "id": "0d5013ce",
   "metadata": {},
   "outputs": [],
   "source": [
    "tree = ImpedanceTree(root_seg=stim_seg)\n",
    "tree.compute_impedances(F)\n",
    "tree.compute_attenuations()"
   ]
  },
  {
   "cell_type": "code",
   "execution_count": null,
   "id": "ee9b6fc6",
   "metadata": {},
   "outputs": [],
   "source": [
    "segments = [node.seg for node in tree]\n",
    "n_segments = len(segments)"
   ]
  },
  {
   "cell_type": "code",
   "execution_count": null,
   "id": "6c6463c6",
   "metadata": {},
   "outputs": [],
   "source": [
    "t_rec = h.Vector()\n",
    "t_rec.record(h._ref_t)\n",
    "v_rec = []\n",
    "for seg in segments:\n",
    "    rec = h.Vector()\n",
    "    rec.record(seg._ref_v)\n",
    "    v_rec.append(rec)"
   ]
  },
  {
   "cell_type": "code",
   "execution_count": null,
   "id": "6ae9bd5f",
   "metadata": {},
   "outputs": [],
   "source": [
    "h.tstop = stim.dur + 2*stim.delay\n",
    "h.v_init = e_pas\n",
    "if F == 0:\n",
    "    h.cvode_active(1)\n",
    "else:\n",
    "    h.cvode_active(0)\n",
    "    h.dt = min(h.dt, T/1000)\n",
    "h.run()"
   ]
  },
  {
   "cell_type": "code",
   "execution_count": null,
   "id": "473da601",
   "metadata": {},
   "outputs": [],
   "source": [
    "t = np.array(t_rec)\n",
    "V = np.array([np.array(rec) for rec in v_rec])\n",
    "if F > 0:\n",
    "    idx = (t>stim.delay+stim.dur-2*T) & (t<stim.delay+stim.dur)\n",
    "    ΔV = V[:,idx].max(axis=1) - V[:,idx].min(axis=1)\n",
    "else:\n",
    "    idx0 = np.where(t<=stim.delay)[0][-1]\n",
    "    idx1 = np.where(t<=stim.delay+stim.dur)[0][-1]\n",
    "    ΔV = V[:,idx1] - V[:,idx0]"
   ]
  },
  {
   "cell_type": "code",
   "execution_count": null,
   "id": "cdc20d40",
   "metadata": {},
   "outputs": [],
   "source": [
    "print('{:>12s} {:>8s} {:>13s} {:>13s} {:>13s} {:>7s}'.\\\n",
    "      format('Segment', 'Za (MΩ)', 'Zm (MΩ)', 'Zp (MΩ)', 'Zload (MΩ)', 'A'))\n",
    "print('=' * 73)\n",
    "for node in tree:\n",
    "    att = np.abs(node.A[0]) if len(node.children) > 0 else 1\n",
    "    print('{}({:5.3f}) {:8.4f} {:13.1f} {:13.1f} {:13.1f} {:7.4f}'.\\\n",
    "          format(node.seg.sec.name(),\n",
    "                 node.seg.x,\n",
    "                 node.Ra*1e-6,\n",
    "                 node.Zm*1e-6,\n",
    "                 node.Zp*1e-6,\n",
    "                 node.Zload*1e-6,\n",
    "                 att))"
   ]
  },
  {
   "cell_type": "code",
   "execution_count": null,
   "id": "285b31e7",
   "metadata": {},
   "outputs": [],
   "source": [
    "i,j = 0,32 #n_segments-1\n",
    "seg_i,seg_j = segments[i], segments[j]\n",
    "node_i = tree.find_node(ImpedanceNode(seg_i))\n",
    "node_j = tree.find_node(ImpedanceNode(seg_j))\n",
    "A_computed = tree.compute_attenuation(seg_j)\n",
    "A_measured = ΔV[i]/ΔV[j]\n",
    "print('Attenuation between segments {} and {}: {:.6f} (measured), {:.6f} (computed).'.\\\n",
    "     format(node_i, node_j, A_measured, A_computed))"
   ]
  },
  {
   "cell_type": "code",
   "execution_count": null,
   "id": "b9a5e14f",
   "metadata": {},
   "outputs": [],
   "source": [
    "A_0_k_measured = ΔV[0] / ΔV[1:]\n",
    "A_0_k_computed = [tree.compute_attenuation(seg_k) for seg_k in segments[1:]]"
   ]
  },
  {
   "cell_type": "code",
   "execution_count": null,
   "id": "2cef0654",
   "metadata": {},
   "outputs": [],
   "source": [
    "if F == 0:\n",
    "    vi = e_pas + ΔV[i]\n",
    "    vj = e_pas + ΔV[i]/A_computed\n",
    "else:\n",
    "    vi = e_pas + ΔV[i]/2\n",
    "    vj = e_pas + ΔV[i]/A_computed/2\n",
    "t_stim = [stim.delay,stim.delay+stim.dur]\n",
    "fig,ax = plt.subplots(1, 2, figsize=(7.5,2.5), width_ratios=(1,2))\n",
    "\n",
    "lim = [A_0_k_measured.min()*0.999, A_0_k_measured.max()*1.001]\n",
    "ax[0].plot(lim, lim, lw=2, color=[.4,.4,.4])\n",
    "ax[0].plot(A_0_k_measured, A_0_k_computed, 'ko', markerfacecolor='w', markersize=4)\n",
    "ax[0].grid(which='major', axis='both', ls=':', lw=0.5, color=[.6,.6,.6])\n",
    "ax[0].set_xlabel('Measured attenuation')\n",
    "ax[0].set_ylabel('Computed attenuation')\n",
    "\n",
    "ax[1].plot(t, V[i], 'k', lw=0.5)\n",
    "ax[1].plot(t, V[j], 'r', lw=0.5)\n",
    "ax[1].plot(t_stim, vi+np.zeros(2), 'k--', lw=2)\n",
    "ax[1].plot(t_stim, vj+np.zeros(2), 'r--', lw=2)\n",
    "ax[1].set_xlabel('Time (ms)')\n",
    "ax[1].set_ylabel('Vm (mV)')\n",
    "ax[1].grid(which='major', axis='y', ls=':', lw=0.5, color=[.6,.6,.6])\n",
    "\n",
    "sns.despine()\n",
    "fig.tight_layout()"
   ]
  }
 ],
 "metadata": {
  "kernelspec": {
   "display_name": "Python 3 (ipykernel)",
   "language": "python",
   "name": "python3"
  },
  "language_info": {
   "codemirror_mode": {
    "name": "ipython",
    "version": 3
   },
   "file_extension": ".py",
   "mimetype": "text/x-python",
   "name": "python",
   "nbconvert_exporter": "python",
   "pygments_lexer": "ipython3",
   "version": "3.10.14"
  }
 },
 "nbformat": 4,
 "nbformat_minor": 5
}

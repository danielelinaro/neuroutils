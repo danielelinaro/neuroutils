{
 "cells": [
  {
   "cell_type": "markdown",
   "id": "c95d500d",
   "metadata": {},
   "source": [
    "This notebooks compares dendritic attenuation results obtained with three different methods:\n",
    "\n",
    "1. NEURON simulation (i.e., what we consider the \"ground truth\").\n",
    "1. Impedance tree (i.e., the method implemented in ``nodes.py`` and ``trees.py``).\n",
    "1. The cable equation (i.e., the theoretical results that are valid in case of an unbranched piece of dendrite of infinite length)."
   ]
  },
  {
   "cell_type": "code",
   "execution_count": null,
   "id": "b24da5aa",
   "metadata": {},
   "outputs": [],
   "source": [
    "import sys\n",
    "import numpy as np\n",
    "import matplotlib.pyplot as plt\n",
    "import seaborn as sns\n",
    "\n",
    "if '..' not in sys.path:\n",
    "    sys.path = ['..'] + sys.path\n",
    "\n",
    "from neuroutils.trees import SWCImpedanceTree, ImpedanceTree\n",
    "\n",
    "from neuron import h\n",
    "h.load_file('stdrun.hoc')\n",
    "h.load_file('stdlib.hoc')\n",
    "h.celsius = 34"
   ]
  },
  {
   "cell_type": "markdown",
   "id": "dc58e9df",
   "metadata": {},
   "source": [
    "#### The parameters"
   ]
  },
  {
   "cell_type": "code",
   "execution_count": null,
   "id": "83588600",
   "metadata": {},
   "outputs": [],
   "source": [
    "cm   =     1.  # [uF/cm2] membrane capacitance\n",
    "Ra   =   100.  # [Ohm cm] cytoplasmic resistivity\n",
    "Rm   = 15000.  # [Ohm cm2] membrane resistance\n",
    "El   =   -65.  # [mV] passive reversal potential\n",
    "diam =     5.  # [um] (constant) diameter of the cable"
   ]
  },
  {
   "cell_type": "markdown",
   "id": "404d7613",
   "metadata": {},
   "source": [
    "#### The membrane time constant"
   ]
  },
  {
   "cell_type": "code",
   "execution_count": null,
   "id": "e8df0fb6",
   "metadata": {},
   "outputs": [],
   "source": [
    "taum = Rm*cm*1e-3   # [ms]\n",
    "print('Membrane time constant: {:.2f} ms.'.format(taum))"
   ]
  },
  {
   "cell_type": "markdown",
   "id": "de28b2ba",
   "metadata": {},
   "source": [
    "#### The length constant λ"
   ]
  },
  {
   "cell_type": "code",
   "execution_count": null,
   "id": "cfe310a8",
   "metadata": {},
   "outputs": [],
   "source": [
    "length_const = np.sqrt((diam*1e-4*Rm)/(4*Ra)) * 1e4\n",
    "print('Length constant: {:.3f} um.'.format(length_const))"
   ]
  },
  {
   "cell_type": "markdown",
   "id": "7261be04",
   "metadata": {},
   "source": [
    "Here we choose the length of the cable to be equal to a certain multiple of λ: the higher this number, the more closely the numerical solution will match the theoretical one. Either way, the values obtained with the impedance tree should match the NEURON simulation."
   ]
  },
  {
   "cell_type": "code",
   "execution_count": null,
   "id": "016c6f67",
   "metadata": {},
   "outputs": [],
   "source": [
    "L = 0.05*length_const\n",
    "print('Length of the cable: {:.3f} um.'.format(L))"
   ]
  },
  {
   "cell_type": "markdown",
   "id": "95a4f66a",
   "metadata": {},
   "source": [
    "Here we generate the points that make up the morphology and save them in an SWC file:"
   ]
  },
  {
   "cell_type": "code",
   "execution_count": null,
   "id": "9d9e6aa5",
   "metadata": {},
   "outputs": [],
   "source": [
    "N_pts_per_lambda = 100 if L >= length_const else 1000\n",
    "N_pts = int(np.ceil(L / length_const * N_pts_per_lambda))\n",
    "print('The morphology contains {} points.'.format(N_pts))\n",
    "X = np.zeros((N_pts, 7))\n",
    "\n",
    "X[:,0] = np.arange(N_pts) + 1\n",
    "X[:,1] = 4\n",
    "\n",
    "spatial_F = 1/L\n",
    "X[:,2] = np.linspace(0, L, N_pts)\n",
    "# X[:,3] = 50*np.sin(2*np.pi*spatial_F*X[:,2])\n",
    "# X[:,4] = 10*np.sin(2*np.pi*spatial_f*2*X[:,2])\n",
    "dst_from_origin = np.concatenate([[0], np.cumsum(np.linalg.norm(np.diff(X[:,2:5], axis=0), axis=1))])\n",
    "total_L = dst_from_origin[-1]\n",
    "print('Total length of the dendrite: {:.2f} μm.'.format(total_L))\n",
    "X[:,5] = diam + diam/2*(1-np.cos(2*np.pi*dst_from_origin/total_L))\n",
    "\n",
    "X[:,6] = X[:,0] - 1\n",
    "# root node\n",
    "X[0,-1] = -1\n",
    "swc_file = 'morpho.swc'\n",
    "np.savetxt(swc_file, X, fmt='%g')"
   ]
  },
  {
   "cell_type": "code",
   "execution_count": null,
   "id": "7fe38233",
   "metadata": {},
   "outputs": [],
   "source": [
    "fig,ax = plt.subplots(1, 1, figsize=(5,2))\n",
    "ax.plot(dst_from_origin/length_const, X[:,5], 'k', lw=2)\n",
    "ax.set_xlabel('Distance from origin (λ)')\n",
    "ax.set_ylabel('Diameter (μm)')\n",
    "sns.despine()\n",
    "fig.tight_layout()"
   ]
  },
  {
   "cell_type": "code",
   "execution_count": null,
   "id": "53f310d3",
   "metadata": {},
   "outputs": [],
   "source": [
    "x,y,z = X[:,2],X[:,3],X[:,4]\n",
    "width_ratio = max(0.2, (z.max()-z.min()) / (x.max()-x.min()))\n",
    "height_ratio = max(0.2, (z.max()-z.min()) / (y.max()-y.min())) if y.max() != y.min() else 0.2\n",
    "fig,ax = plt.subplots(2, 2, figsize=(8,3),\n",
    "                      width_ratios=(1, width_ratio),\n",
    "                      height_ratios=(1, height_ratio))\n",
    "ax[0,0].scatter(x, y, s=X[:,5], c='k')\n",
    "ax[0,0].set_xlabel('X')\n",
    "ax[0,0].set_ylabel('Y')\n",
    "ax[1,0].scatter(x, z, s=X[:,5], c='k')\n",
    "ax[1,0].set_xlabel('X')\n",
    "ax[1,0].set_ylabel('Z')\n",
    "ax[0,1].scatter(z, y, s=X[:,5], c='k')\n",
    "ax[0,1].set_xlabel('Z')\n",
    "ax[0,1].set_ylabel('Y')\n",
    "plt.axis('equal')\n",
    "ax[1,1].axis('off')\n",
    "sns.despine()\n",
    "fig.tight_layout()"
   ]
  },
  {
   "cell_type": "markdown",
   "id": "df5512ec",
   "metadata": {},
   "source": [
    "### Instantiate the section"
   ]
  },
  {
   "cell_type": "code",
   "execution_count": null,
   "id": "0e3d4605",
   "metadata": {},
   "outputs": [],
   "source": [
    "dend = h.Section(name='dend')\n",
    "dend.cm = cm\n",
    "dend.Ra = Ra\n",
    "\n",
    "xvec = h.Vector(X[:,2])\n",
    "yvec = h.Vector(X[:,3])\n",
    "zvec = h.Vector(X[:,4])\n",
    "dvec = h.Vector(X[:,5])\n",
    "h.pt3dadd(xvec, yvec, zvec, dvec, sec=dend)\n",
    "\n",
    "dend.insert('pas')\n",
    "dend.g_pas = 1/Rm\n",
    "dend.e_pas = El\n",
    "\n",
    "use_dlambda_rule = False\n",
    "\n",
    "if use_dlambda_rule:\n",
    "    # setting the number of segments using the d_lambda rule\n",
    "    # for more information, see https://neuron.yale.edu/neuron/static/docs/d_lambda/d_lambda.html\n",
    "    nseg = int((L/(0.1*h.lambda_f(100, sec=dend))+0.9)/2)*2 + 1\n",
    "    print('# of segments from λ rule: {}.'.format(nseg))\n",
    "else:\n",
    "    # length of each segment\n",
    "    seg_len = 10 # [μm]\n",
    "    nseg = int(np.ceil(L/seg_len))\n",
    "    if nseg%2 == 0:\n",
    "        nseg += 1\n",
    "    print('One segment for each {} μm of dendrite.'.format(seg_len))\n",
    "\n",
    "dend.nseg = nseg\n",
    "print('The dendrite is {:g} μm long and is subdivided into {} segments.'.format(dend.L, dend.nseg))\n",
    "area = np.sum([seg.area() for seg in dend])\n",
    "print(f'Its area is {area:g} μm2')"
   ]
  },
  {
   "cell_type": "raw",
   "id": "8af9f927",
   "metadata": {},
   "source": [
    "for i,seg in enumerate(dend.allseg()):\n",
    "    print('[{:3d}] {:.4f} {:9.4f} {:9.4f} {:8.4e}'.format(i+1, seg.x, seg.x*dend.L, seg.area(), seg.ri()))"
   ]
  },
  {
   "cell_type": "code",
   "execution_count": null,
   "id": "dde07eef",
   "metadata": {},
   "outputs": [],
   "source": [
    "before, after = 100, 100\n",
    "stim_x = 0\n",
    "stim_x = 1/3\n",
    "stim_x = 0.2\n",
    "stim = h.IClamp(dend(stim_x))\n",
    "stim.delay = before\n",
    "stim.dur = 500\n",
    "stim.amp = 100 * L / length_const * 1e-3\n",
    "print('Stimulus amplitude: {:g} pA.'.format(stim.amp*1e3))"
   ]
  },
  {
   "cell_type": "code",
   "execution_count": null,
   "id": "5e0267d7",
   "metadata": {},
   "outputs": [],
   "source": [
    "rec = {'t': h.Vector()}\n",
    "rec['t'].record(h._ref_t)\n",
    "for seg in dend:\n",
    "    key = 'V-{:.3f}'.format(seg.x)\n",
    "    rec[key] = h.Vector()\n",
    "    rec[key].record(seg._ref_v)"
   ]
  },
  {
   "cell_type": "code",
   "execution_count": null,
   "id": "d3de0ce0",
   "metadata": {},
   "outputs": [],
   "source": [
    "h.cvode_active(1)\n",
    "h.tstop = before + after + stim.dur\n",
    "h.v_init = El\n",
    "h.run();"
   ]
  },
  {
   "cell_type": "markdown",
   "id": "d1917cb0",
   "metadata": {},
   "source": [
    "#### Simulation results"
   ]
  },
  {
   "cell_type": "code",
   "execution_count": null,
   "id": "546b09a2",
   "metadata": {},
   "outputs": [],
   "source": [
    "time = np.array(rec['t'])\n",
    "V = np.array([np.array(rec[f'V-{seg.x:.3f}']) for seg in dend])\n",
    "before_stim = np.where(time < stim.delay)[0][-1]\n",
    "V0 = V[:,before_stim]\n",
    "V1 = V.max(axis=1)\n",
    "# the numerically computed voltage deflection\n",
    "DeltaV = V1 - V0\n",
    "## path distance\n",
    "dst_from_stim = np.array([h.distance(dend(stim_x), seg)*(-1 if seg.x < stim_x else 1) for seg in dend])\n",
    "dst_from_stim /= length_const"
   ]
  },
  {
   "cell_type": "markdown",
   "id": "aeffe6d8",
   "metadata": {},
   "source": [
    "#### SWC Impedance Tree"
   ]
  },
  {
   "cell_type": "code",
   "execution_count": null,
   "id": "38a8cf46",
   "metadata": {},
   "outputs": [],
   "source": [
    "root_point = max(2, int(N_pts*stim_x)+1)\n",
    "swc_tree = SWCImpedanceTree(swc_file, cm, Rm, Ra, root_point=root_point)\n",
    "swc_tree.compute_impedances(F=0)\n",
    "swc_tree.compute_attenuations()\n",
    "swc_tree.compute_distances()\n",
    "A_points = np.array([np.abs(n.A_from_root) for n in swc_tree])\n",
    "## path distance\n",
    "dst_from_swc_tree_root = np.array([n.distance*(-1 if n.x<swc_tree.root.x else 1) for n in swc_tree])\n",
    "dst_from_swc_tree_root /= length_const"
   ]
  },
  {
   "cell_type": "markdown",
   "id": "91fa58c6",
   "metadata": {},
   "source": [
    "#### Impedance Tree"
   ]
  },
  {
   "cell_type": "code",
   "execution_count": null,
   "id": "c37797c3",
   "metadata": {},
   "outputs": [],
   "source": [
    "tree = ImpedanceTree(root_seg=dend(stim_x))\n",
    "tree.compute_impedances(F=0)\n",
    "tree.compute_attenuations()\n",
    "A_segs = np.array([np.abs(n.A_from_root) for n in tree])\n",
    "## path distance\n",
    "dst_from_tree_root = np.array([h.distance(dend(stim_x), n.seg)*(-1 if n.seg.x < stim_x else 1) for n in tree])\n",
    "dst_from_tree_root /= length_const"
   ]
  },
  {
   "cell_type": "markdown",
   "id": "f0d1f2e2",
   "metadata": {},
   "source": [
    "#### Theoretical values"
   ]
  },
  {
   "cell_type": "raw",
   "id": "964e6a73",
   "metadata": {},
   "source": [
    "# maximum deflection (i.e., where the stimulus was applied)\n",
    "DeltaV_max_theory = Rm*stim.amp/(2*np.pi*diam*length_const)*100 # [mV]\n",
    "# exponential decay of the deflection\n",
    "DeltaV_theory = DeltaV_max_theory * np.exp(-np.abs(X))"
   ]
  },
  {
   "cell_type": "markdown",
   "id": "a200ddbe",
   "metadata": {},
   "source": [
    "Plot the results:"
   ]
  },
  {
   "cell_type": "code",
   "execution_count": null,
   "id": "01838e10",
   "metadata": {},
   "outputs": [],
   "source": [
    "idx, = np.where(dst_from_stim < 0)\n",
    "jdx, = np.where(dst_from_stim >= 0)\n",
    "N_c = max(idx.size, jdx.size)\n",
    "c = np.concatenate([np.linspace(0, N_c, idx.size, endpoint=False, dtype=int),\n",
    "                    np.linspace(0, N_c, jdx.size, endpoint=False, dtype=int) + N_c])\n",
    "\n",
    "cmap_name = 'coolwarm'\n",
    "cmap = plt.get_cmap(cmap_name, c.max())\n",
    "fig,ax = plt.subplots(1, 2, figsize=(8,3))\n",
    "for i,v in enumerate(V):\n",
    "    ax[0].plot(time, v, color=cmap(c[i]), lw=0.75)\n",
    "ax[0].set_xlabel('Time (ms)')\n",
    "ax[0].set_ylabel('Membrane voltage (mV)')\n",
    "ax[0].grid(which='major', axis='y', lw=0.5, ls=':', color=[.6,.6,.6])\n",
    "\n",
    "magenta = [.8,0,.8]\n",
    "green = [0,.8,0]\n",
    "\n",
    "# ax[1].plot(X, DeltaV_theory, 'k', lw=1, label='Theory')\n",
    "\n",
    "idx,jdx = dst_from_swc_tree_root<=0, dst_from_swc_tree_root>=0\n",
    "ax[1].plot(dst_from_swc_tree_root[idx], DeltaV.max()/A_points[idx], color=magenta, lw=2,\n",
    "           label='SWC impedance tree')\n",
    "ax[1].plot(dst_from_swc_tree_root[jdx], DeltaV.max()/A_points[jdx], color=magenta, lw=2)\n",
    "\n",
    "idx,jdx = dst_from_tree_root<=0, dst_from_tree_root>=0\n",
    "ax[1].plot(dst_from_tree_root[idx], DeltaV.max()/A_segs[idx], 'x', color=green,\n",
    "           label='Impedance tree')\n",
    "ax[1].plot(dst_from_tree_root[jdx], DeltaV.max()/A_segs[jdx], 'x', color=green)\n",
    "\n",
    "ax[1].scatter(dst_from_stim, DeltaV, s=30, c=c, cmap=cmap_name, alpha=1,\n",
    "              linewidth=0, label='Measured', edgecolor='w')\n",
    "\n",
    "ax[1].legend(loc='best', frameon=False, fontsize=8)\n",
    "ax[1].set_xlabel('X $(\\lambda)$')\n",
    "ax[1].set_ylabel(r'$\\Delta$V (mV)')\n",
    "ax[1].grid(which='major', axis='x', lw=0.5, ls=':', color=[.6,.6,.6])\n",
    "sns.despine()\n",
    "fig.tight_layout()"
   ]
  }
 ],
 "metadata": {
  "kernelspec": {
   "display_name": "Python 3 (ipykernel)",
   "language": "python",
   "name": "python3"
  },
  "language_info": {
   "codemirror_mode": {
    "name": "ipython",
    "version": 3
   },
   "file_extension": ".py",
   "mimetype": "text/x-python",
   "name": "python",
   "nbconvert_exporter": "python",
   "pygments_lexer": "ipython3",
   "version": "3.10.14"
  }
 },
 "nbformat": 4,
 "nbformat_minor": 5
}
